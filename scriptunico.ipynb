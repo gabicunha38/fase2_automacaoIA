{
 "cells": [
  {
   "cell_type": "code",
   "execution_count": null,
   "id": "e3e98c5f",
   "metadata": {},
   "outputs": [],
   "source": [
    "import os\n",
    "import pandas as pd\n",
    "import matplotlib\nmatplotlib.use('Agg')\n",
    "import matplotlib.pyplot as plt\n",
    "import cv2\n",
    "import numpy as np\n",
    "from sklearn.model_selection import train_test_split\n",
    "from tensorflow.keras.models import Sequential\n",
    "from tensorflow.keras.layers import Dense"
   ]
  },
  {
   "cell_type": "markdown",
   "id": "1396cf30",
   "metadata": {},
   "source": [
    "============================\n",
    "1. Gerar imagens a partir dos CSVs\n",
    "============================"
   ]
  },
  {
   "cell_type": "code",
   "execution_count": null,
   "id": "548458ce",
   "metadata": {
    "lines_to_next_cell": 1
   },
   "outputs": [],
   "source": [
    "# Criar diretórios\n",
    "os.makedirs(\"imagem/normal\", exist_ok=True)\n",
    "os.makedirs(\"imagem/anomaly\", exist_ok=True)"
   ]
  },
  {
   "cell_type": "code",
   "execution_count": null,
   "id": "eb96f8cd",
   "metadata": {
    "lines_to_next_cell": 1
   },
   "outputs": [],
   "source": [
    "# Função para gerar imagens de ECG\n",
    "def gerar_imagens(df, offset=0):\n",
    "    for i in range(len(df)):\n",
    "        signal = df.iloc[i, :-1]\n",
    "        label = df.iloc[i, -1]\n",
    "\n",
    "        plt.figure(figsize=(2, 2))\n",
    "        plt.plot(signal, color='black')\n",
    "        plt.axis('off')\n",
    "\n",
    "        folder = \"normal\" if label == 0 else \"anomaly\"\n",
    "        filename = f\"imagem/{folder}/{i + offset}.png\"\n",
    "        plt.savefig(filename, bbox_inches='tight', pad_inches=0)\n",
    "        plt.close()"
   ]
  },
  {
   "cell_type": "code",
   "execution_count": null,
   "id": "54bf680a",
   "metadata": {},
   "outputs": [],
   "source": [
    "# Carregar CSVs\n",
    "df_abnormal = pd.read_csv(\"ptbdb_abnormal.csv\", header=None)\n",
    "df_normal = pd.read_csv(\"ptbdb_normal.csv\", header=None)"
   ]
  },
  {
   "cell_type": "code",
   "execution_count": null,
   "id": "d8b1bb61",
   "metadata": {},
   "outputs": [],
   "source": [
    "# Gerar imagens\n",
    "gerar_imagens(df_abnormal, offset=0)\n",
    "gerar_imagens(df_normal, offset=len(df_abnormal))"
   ]
  },
  {
   "cell_type": "code",
   "execution_count": null,
   "id": "298cdd79",
   "metadata": {},
   "outputs": [],
   "source": [
    "print(\"✅ Imagens geradas com sucesso.\")"
   ]
  },
  {
   "cell_type": "markdown",
   "id": "f5bf572b",
   "metadata": {},
   "source": [
    "============================\n",
    "2. Pré-processar imagens\n",
    "============================"
   ]
  },
  {
   "cell_type": "code",
   "execution_count": null,
   "id": "cdeb9a32",
   "metadata": {
    "lines_to_next_cell": 1
   },
   "outputs": [],
   "source": [
    "img_size = (64, 64)\n",
    "images = []\n",
    "labels = []"
   ]
  },
  {
   "cell_type": "code",
   "execution_count": null,
   "id": "e1993f81",
   "metadata": {
    "lines_to_next_cell": 1
   },
   "outputs": [],
   "source": [
    "def carregar_imagens(pasta, rotulo):\n",
    "    for filename in os.listdir(pasta):\n",
    "        if filename.lower().endswith(('.png', '.jpg', '.jpeg')):\n",
    "            caminho = os.path.join(pasta, filename)\n",
    "            img = cv2.imread(caminho, cv2.IMREAD_GRAYSCALE)\n",
    "            if img is not None:\n",
    "                img = cv2.resize(img, img_size)\n",
    "                images.append(img)\n",
    "                labels.append(rotulo)"
   ]
  },
  {
   "cell_type": "code",
   "execution_count": null,
   "id": "d30db345",
   "metadata": {},
   "outputs": [],
   "source": [
    "# Carregar imagens\n",
    "carregar_imagens(\"imagem/normal\", 0)\n",
    "carregar_imagens(\"imagem/anomaly\", 1)"
   ]
  },
  {
   "cell_type": "code",
   "execution_count": null,
   "id": "2a60780c",
   "metadata": {},
   "outputs": [],
   "source": [
    "# Converter para arrays\n",
    "X = np.array(images, dtype='float32') / 255.0\n",
    "y = np.array(labels)"
   ]
  },
  {
   "cell_type": "code",
   "execution_count": null,
   "id": "784703e0",
   "metadata": {},
   "outputs": [],
   "source": [
    "# Vetorizar para MLP\n",
    "X = X.reshape(len(X), -1)"
   ]
  },
  {
   "cell_type": "code",
   "execution_count": null,
   "id": "bc758ad4",
   "metadata": {},
   "outputs": [],
   "source": [
    "print(\"✅ Imagens carregadas e vetorizadas.\")\n",
    "print(\"Total de imagens:\", len(X))\n",
    "print(\"Formato de X:\", X.shape)\n",
    "print(\"Formato de y:\", y.shape)"
   ]
  },
  {
   "cell_type": "markdown",
   "id": "928c5673",
   "metadata": {},
   "source": [
    "============================\n",
    "3. Treinar MLP com Keras\n",
    "============================"
   ]
  },
  {
   "cell_type": "code",
   "execution_count": null,
   "id": "fcbbc00f",
   "metadata": {},
   "outputs": [],
   "source": [
    "# Dividir em treino e teste\n",
    "X_train, X_test, y_train, y_test = train_test_split(X, y, test_size=0.2, random_state=42)"
   ]
  },
  {
   "cell_type": "code",
   "execution_count": null,
   "id": "59029ba1",
   "metadata": {},
   "outputs": [],
   "source": [
    "# Definir modelo\n",
    "model = Sequential([\n",
    "    Dense(256, activation='relu', input_shape=(X.shape[1],)),\n",
    "    Dense(128, activation='relu'),\n",
    "    Dense(1, activation='sigmoid')\n",
    "])"
   ]
  },
  {
   "cell_type": "code",
   "execution_count": null,
   "id": "6bfb3b9a",
   "metadata": {},
   "outputs": [],
   "source": [
    "# Compilar e treinar\n",
    "model.compile(optimizer='adam', loss='binary_crossentropy', metrics=['accuracy'])\n",
    "history = model.fit(X_train, y_train, epochs=10, batch_size=32, validation_split=0.1)"
   ]
  },
  {
   "cell_type": "code",
   "execution_count": null,
   "id": "6fd16c60",
   "metadata": {},
   "outputs": [],
   "source": [
    "# Avaliar\n",
    "loss, accuracy = model.evaluate(X_test, y_test)\n",
    "print(f\"\\n✅ Acurácia no teste: {accuracy:.2f}\")"
   ]
  },
  {
   "cell_type": "code",
   "execution_count": null,
   "id": "0f56ed87",
   "metadata": {},
   "outputs": [],
   "source": [
    "# Visualizar desempenho\n",
    "plt.plot(history.history['accuracy'], label='Treino')\n",
    "plt.plot(history.history['val_accuracy'], label='Validação')\n",
    "plt.title('Acurácia por época')\n",
    "plt.xlabel('Épocas')\n",
    "plt.ylabel('Acurácia')\n",
    "plt.legend()\n",
    "plt.show()"
   ]
  }
 ],
 "metadata": {
  "jupytext": {
   "cell_metadata_filter": "-all",
   "main_language": "python",
   "notebook_metadata_filter": "-all"
  }
 },
 "nbformat": 4,
 "nbformat_minor": 5
}
